{
 "cells": [
  {
   "cell_type": "code",
   "execution_count": 176,
   "metadata": {},
   "outputs": [],
   "source": [
    "import pandas as pd\n",
    "import numpy as np\n",
    "from sklearn.compose import ColumnTransformer\n",
    "from sklearn.decomposition import PCA\n",
    "from sklearn.pipeline import Pipeline\n",
    "from sklearn.preprocessing import OneHotEncoder,StandardScaler\n",
    "from sklearn.feature_selection import f_classif,SelectKBest\n",
    "from sklearn.svm import SVC\n",
    "from sklearn.model_selection import GridSearchCV\n",
    "from sklearn.metrics import make_scorer, balanced_accuracy_score\n",
    "import pickle\n",
    "import os\n",
    "import gzip\n",
    "import json\n",
    "from sklearn.metrics import precision_score, recall_score, f1_score, balanced_accuracy_score\n",
    "from sklearn.metrics import confusion_matrix\n",
    "from sklearn.feature_selection import SelectKBest, f_classif\n",
    "from sklearn.neural_network import MLPClassifier\n",
    "\n"
   ]
  },
  {
   "cell_type": "code",
   "execution_count": 177,
   "metadata": {},
   "outputs": [],
   "source": [
    "# Paso 1.\n",
    "df_test = pd.read_csv(\n",
    "    \"../files/input/test_data.csv.zip\",\n",
    "    index_col=False,\n",
    "    compression=\"zip\",\n",
    ")\n",
    "\n",
    "df_train = pd.read_csv(\n",
    "    \"../files/input/train_data.csv.zip\",\n",
    "    index_col=False,\n",
    "    compression=\"zip\",\n",
    ")"
   ]
  },
  {
   "cell_type": "code",
   "execution_count": 178,
   "metadata": {},
   "outputs": [],
   "source": [
    "# - Renombre la columna \"default payment next month\" a \"default\".\n",
    "df_test = df_test.rename(columns={'default payment next month': 'default'})\n",
    "df_train = df_train.rename(columns={'default payment next month': 'default'})"
   ]
  },
  {
   "cell_type": "code",
   "execution_count": 179,
   "metadata": {},
   "outputs": [],
   "source": [
    "# - Remueva la columna \"ID\".\n",
    "df_test=df_test.drop(columns=['ID'])\n",
    "df_train=df_train.drop(columns=['ID'])"
   ]
  },
  {
   "cell_type": "code",
   "execution_count": 180,
   "metadata": {},
   "outputs": [],
   "source": [
    "# Eliminamos los registros con informacion no disponible\n",
    "df_train = df_train.loc[df_train[\"MARRIAGE\"] != 0]\n",
    "df_train = df_train.loc[df_train[\"EDUCATION\"] != 0]\n",
    "\n",
    "\n",
    "df_test = df_test.loc[df_test[\"MARRIAGE\"] != 0]\n",
    "df_test = df_test.loc[df_test[\"EDUCATION\"] != 0]"
   ]
  },
  {
   "cell_type": "code",
   "execution_count": 181,
   "metadata": {},
   "outputs": [],
   "source": [
    "# Agrupamos los valores de EDUCATION > 4 en la categoria \"others\"\n",
    "df_train.loc[df_train[\"EDUCATION\"] > 4, \"EDUCATION\"] = 4\n",
    "df_test.loc[df_test[\"EDUCATION\"] > 4, \"EDUCATION\"] = 4"
   ]
  },
  {
   "cell_type": "code",
   "execution_count": 182,
   "metadata": {},
   "outputs": [],
   "source": [
    "#Paso 2.\n",
    "# Divida los datasets en x_train, y_train, x_test, y_test.\n",
    "x_train=df_train.drop(columns=\"default\")\n",
    "y_train=df_train[\"default\"]\n",
    "x_test=df_test.drop(columns=\"default\")\n",
    "y_test=df_test[\"default\"]"
   ]
  },
  {
   "cell_type": "code",
   "execution_count": 183,
   "metadata": {},
   "outputs": [
    {
     "name": "stdout",
     "output_type": "stream",
     "text": [
      "\n",
      "Pipeline de clasificación ajustado exitosamente.\n"
     ]
    }
   ],
   "source": [
    "# Paso 3.\n",
    "# Cree un pipeline para el modelo de clasificación. Este pipeline debe\n",
    "# contener las siguientes capas:\n",
    "# - Transforma las variables categoricas usando el método\n",
    "#   one-hot-encoding.\n",
    "# - Descompone la matriz de entrada usando componentes principales.\n",
    "#   El pca usa todas las componentes.\n",
    "# - Escala la matriz de entrada al intervalo [0, 1].\n",
    "# - Selecciona las K columnas mas relevantes de la matrix de entrada.\n",
    "# - Ajusta una red neuronal tipo MLP.\n",
    "\n",
    "#Columnas categoricas\n",
    "categorical_features=[\"SEX\",\"EDUCATION\",\"MARRIAGE\"]\n",
    "numerical_features=num_columns = [col for col in x_train.columns if col not in categorical_features]\n",
    "\n",
    "#preprocesador\n",
    "preprocessor = ColumnTransformer(\n",
    "    transformers=[\n",
    "        ('cat', OneHotEncoder(), categorical_features),\n",
    "        ('scaler',StandardScaler(with_mean=True, with_std=True),numerical_features),\n",
    "    ],\n",
    ")\n",
    "\n",
    "\n",
    "#pipeline\n",
    "pipeline=Pipeline(\n",
    "    [\n",
    "        (\"preprocessor\",preprocessor),\n",
    "        ('feature_selection',SelectKBest(score_func=f_classif)),\n",
    "        ('pca',PCA()),\n",
    "        ('classifier',MLPClassifier(max_iter=15000,random_state=17))\n",
    "    ]\n",
    ")\n",
    "\n",
    "print(\"\\nPipeline de clasificación ajustado exitosamente.\")"
   ]
  },
  {
   "cell_type": "code",
   "execution_count": 184,
   "metadata": {},
   "outputs": [
    {
     "name": "stdout",
     "output_type": "stream",
     "text": [
      "Pipeline(steps=[('preprocessor',\n",
      "                 ColumnTransformer(transformers=[('cat', OneHotEncoder(),\n",
      "                                                  ['SEX', 'EDUCATION',\n",
      "                                                   'MARRIAGE']),\n",
      "                                                 ('scaler', StandardScaler(),\n",
      "                                                  ['LIMIT_BAL', 'AGE', 'PAY_0',\n",
      "                                                   'PAY_2', 'PAY_3', 'PAY_4',\n",
      "                                                   'PAY_5', 'PAY_6',\n",
      "                                                   'BILL_AMT1', 'BILL_AMT2',\n",
      "                                                   'BILL_AMT3', 'BILL_AMT4',\n",
      "                                                   'BILL_AMT5', 'BILL_AMT6',\n",
      "                                                   'PAY_AMT1', 'PAY_AMT2',\n",
      "                                                   'PAY_AMT3', 'PAY_AMT4',\n",
      "                                                   'PAY_AMT5', 'PAY_AMT6'])])),\n",
      "                ('feature_selection', SelectKBest(k=20)), ('pca', PCA()),\n",
      "                ('classifier',\n",
      "                 MLPClassifier(alpha=0.26, hidden_layer_sizes=(50, 30, 40, 60),\n",
      "                               max_iter=15000, random_state=17))])\n"
     ]
    }
   ],
   "source": [
    "# Use 10 splits para la validación cruzada. Use la función de precision\n",
    "# balanceada para medir la precisión del modelo.\n",
    "\n",
    "# Definir los hiperparámetros a optimizar\n",
    "\n",
    "param_grid = {\n",
    "            'pca__n_components': [None],\n",
    "            'feature_selection__k':[20],\n",
    "            \"classifier__hidden_layer_sizes\": [(50, 30, 40, 60)],\n",
    "            'classifier__alpha': [0.26],\n",
    "            \"classifier__learning_rate_init\": [0.001],\n",
    "}\n",
    "\n",
    "model=GridSearchCV(\n",
    "    pipeline,\n",
    "    param_grid,\n",
    "    cv=10,\n",
    "    scoring=\"balanced_accuracy\",\n",
    "    n_jobs=-1,\n",
    "    refit=True\n",
    "    )\n",
    "\n",
    "model.fit(x_train, y_train)\n",
    "\n",
    "# Actualizar el pipeline con los mejores parámetros encontrados\n",
    "best_pipeline = model.best_estimator_\n",
    "\n",
    "print(best_pipeline)"
   ]
  },
  {
   "cell_type": "code",
   "execution_count": 185,
   "metadata": {},
   "outputs": [],
   "source": [
    "# Guarde el modelo como \"files/models/model.pkl\".\n",
    "\n",
    "models_dir = '../files/models'\n",
    "os.makedirs(models_dir, exist_ok=True)\n",
    "\n",
    "# Nombre del archivo comprimido\n",
    "compressed_model_path = \"../files/models/model.pkl.gz\"\n",
    "\n",
    "with gzip.open(compressed_model_path, \"wb\") as file:\n",
    "    pickle.dump(model, file)"
   ]
  },
  {
   "cell_type": "code",
   "execution_count": 186,
   "metadata": {},
   "outputs": [],
   "source": [
    "# Paso 6.\n",
    "# Calcule las metricas de precision, precision balanceada, recall,\n",
    "# y f1-score para los conjuntos de entrenamiento y prueba.\n",
    "# Guardelas en el archivo files/output/metrics.json. Cada fila\n",
    "# del archivo es un diccionario con las metricas de un modelo.\n",
    "# Este diccionario tiene un campo para indicar si es el conjunto\n",
    "\n",
    "def calculate_and_save_metrics(model, X_train, X_test, y_train, y_test):\n",
    "    # Hacer predicciones\n",
    "    y_train_pred = model.predict(X_train)\n",
    "    y_test_pred = model.predict(X_test)\n",
    "\n",
    "    # Calcular métricas para el conjunto de entrenamiento\n",
    "    metrics_train = {\n",
    "        'type': 'metrics',\n",
    "        'dataset': 'train',\n",
    "        'precision': precision_score(y_train, y_train_pred, zero_division=0),\n",
    "        'balanced_accuracy': balanced_accuracy_score(y_train, y_train_pred),\n",
    "        'recall': recall_score(y_train, y_train_pred, zero_division=0),\n",
    "        'f1_score': f1_score(y_train, y_train_pred, zero_division=0)\n",
    "    }\n",
    "\n",
    "    # Calcular métricas para el conjunto de prueba\n",
    "    metrics_test = {\n",
    "        'type': 'metrics',\n",
    "        'dataset': 'test',\n",
    "        'precision': precision_score(y_test, y_test_pred, zero_division=0),\n",
    "        'balanced_accuracy': balanced_accuracy_score(y_test, y_test_pred),\n",
    "        'recall': recall_score(y_test, y_test_pred, zero_division=0),\n",
    "        'f1_score': f1_score(y_test, y_test_pred, zero_division=0)\n",
    "    }\n",
    "\n",
    "    # Crear carpeta si no existe\n",
    "    output_dir = '../files/output'\n",
    "    os.makedirs(output_dir, exist_ok=True)\n",
    "\n",
    "    # Guardar las métricas en un archivo JSON\n",
    "    output_path = os.path.join(output_dir, 'metrics.json')\n",
    "    with open(output_path, 'w') as f:  # Usar 'w' para comenzar con un archivo limpio\n",
    "        f.write(json.dumps(metrics_train) + '\\n')\n",
    "        f.write(json.dumps(metrics_test) + '\\n')\n",
    "\n",
    "    print(metrics_test)\n",
    "    print(metrics_train)\n",
    "\n"
   ]
  },
  {
   "cell_type": "code",
   "execution_count": 187,
   "metadata": {},
   "outputs": [
    {
     "name": "stdout",
     "output_type": "stream",
     "text": [
      "{'type': 'metrics', 'dataset': 'test', 'precision': 0.6846011131725418, 'balanced_accuracy': np.float64(0.6695640976303335), 'recall': 0.38719832109129065, 'f1_score': 0.49463806970509383}\n",
      "{'type': 'metrics', 'dataset': 'train', 'precision': 0.7025189924030388, 'balanced_accuracy': np.float64(0.6630025835547158), 'recall': 0.3718518518518519, 'f1_score': 0.48629947412122887}\n"
     ]
    }
   ],
   "source": [
    "# Calcule las matrices de confusion para los conjuntos de entrenamiento y\n",
    "# prueba. Guardelas en el archivo files/output/metrics.json. Cada fila\n",
    "# del archivo es un diccionario con las metricas de un modelo.\n",
    "# de entrenamiento o prueba. Por ejemplo:\n",
    "#\n",
    "# {'type': 'cm_matrix', 'dataset': 'train', 'true_0': {\"predicted_0\": 15562, \"predicte_1\": 666}, 'true_1': {\"predicted_0\": 3333, \"predicted_1\": 1444}}\n",
    "# {'type': 'cm_matrix', 'dataset': 'test', 'true_0': {\"predicted_0\": 15562, \"predicte_1\": 650}, 'true_1': {\"predicted_0\": 2490, \"predicted_1\": 1420}}\n",
    "#\n",
    "\n",
    "# Función para calcular las matrices de confusión y guardarlas\n",
    "def calculate_and_save_confusion_matrices(model, X_train, X_test, y_train, y_test):\n",
    "    # Hacer predicciones\n",
    "    y_train_pred = model.predict(X_train)\n",
    "    y_test_pred = model.predict(X_test)\n",
    "\n",
    "    # Calcular matrices de confusión\n",
    "    cm_train = confusion_matrix(y_train, y_train_pred)\n",
    "    cm_test = confusion_matrix(y_test, y_test_pred)\n",
    "\n",
    "    # Convertir las matrices de confusión en formato JSON\n",
    "    def format_confusion_matrix(cm, dataset_type):\n",
    "        return {\n",
    "            'type': 'cm_matrix',\n",
    "            'dataset': dataset_type,\n",
    "            'true_0': {\n",
    "                'predicted_0': int(cm[0, 0]),\n",
    "                'predicted_1': int(cm[0, 1])\n",
    "            },\n",
    "            'true_1': {\n",
    "                'predicted_0': int(cm[1, 0]),\n",
    "                'predicted_1': int(cm[1, 1])\n",
    "            }\n",
    "        }\n",
    "\n",
    "    metrics = [\n",
    "        format_confusion_matrix(cm_train, 'train'),\n",
    "        format_confusion_matrix(cm_test, 'test')\n",
    "    ]\n",
    "\n",
    "    # Guardar las matrices de confusión en el mismo archivo JSON\n",
    "    output_path = '../files/output/metrics.json'\n",
    "    with open(output_path, 'a') as f:  # Usar 'a' para agregar después de las métricas\n",
    "        for metric in metrics:\n",
    "            f.write(json.dumps(metric) + '\\n')\n",
    "\n",
    "# Función principal para ejecutar todo\n",
    "def main(model, X_train, X_test, y_train, y_test):\n",
    "    # Crear el directorio de salida si no existe\n",
    "    os.makedirs('../files/output', exist_ok=True)\n",
    "\n",
    "    # Calcular y guardar las métricas\n",
    "    calculate_and_save_metrics(model, X_train, X_test, y_train, y_test)\n",
    "\n",
    "    # Calcular y guardar las matrices de confusión\n",
    "    calculate_and_save_confusion_matrices(model, X_train, X_test, y_train, y_test)\n",
    "\n",
    "# Ejemplo de uso:\n",
    "main(model, x_train, x_test, y_train, y_test)"
   ]
  },
  {
   "cell_type": "code",
   "execution_count": null,
   "metadata": {},
   "outputs": [],
   "source": []
  },
  {
   "cell_type": "code",
   "execution_count": null,
   "metadata": {},
   "outputs": [],
   "source": []
  },
  {
   "cell_type": "code",
   "execution_count": null,
   "metadata": {},
   "outputs": [],
   "source": []
  },
  {
   "cell_type": "code",
   "execution_count": null,
   "metadata": {},
   "outputs": [],
   "source": []
  }
 ],
 "metadata": {
  "kernelspec": {
   "display_name": ".venv",
   "language": "python",
   "name": "python3"
  },
  "language_info": {
   "codemirror_mode": {
    "name": "ipython",
    "version": 3
   },
   "file_extension": ".py",
   "mimetype": "text/x-python",
   "name": "python",
   "nbconvert_exporter": "python",
   "pygments_lexer": "ipython3",
   "version": "3.10.9"
  }
 },
 "nbformat": 4,
 "nbformat_minor": 2
}
